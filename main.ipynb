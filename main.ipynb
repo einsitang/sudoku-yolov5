{
 "cells": [
  {
   "cell_type": "markdown",
   "source": [
    "## 基于yolov5的数独检测\n",
    "### 0.环境安装"
   ],
   "metadata": {
    "collapsed": false
   }
  },
  {
   "cell_type": "code",
   "execution_count": 10,
   "outputs": [
    {
     "name": "stdout",
     "output_type": "stream",
     "text": [
      "Looking in indexes: https://pypi.tuna.tsinghua.edu.cn/simple\n",
      "Requirement already satisfied: virtualenv in c:\\python39\\lib\\site-packages (20.16.5)\n",
      "Requirement already satisfied: filelock<4,>=3.4.1 in c:\\python39\\lib\\site-packages (from virtualenv) (3.10.0)\n",
      "Requirement already satisfied: platformdirs<3,>=2.4 in c:\\python39\\lib\\site-packages (from virtualenv) (2.5.4)\n",
      "Requirement already satisfied: distlib<1,>=0.3.5 in c:\\python39\\lib\\site-packages (from virtualenv) (0.3.6)\n"
     ]
    },
    {
     "name": "stderr",
     "output_type": "stream",
     "text": [
      "WARNING: You are using pip version 22.0.4; however, version 23.1.2 is available.\n",
      "You should consider upgrading via the 'C:\\Python39\\python.exe -m pip install --upgrade pip' command.\n"
     ]
    },
    {
     "name": "stdout",
     "output_type": "stream",
     "text": [
      "created virtual environment CPython3.9.11.final.0-64 in 1026ms\n",
      "  creator CPython3Windows(dest=C:\\Users\\pk5ls\\OneDrive\\Interest\\Pending\\sudoku\\sudoku, clear=False, no_vcs_ignore=False, global=False)\n",
      "  seeder FromAppData(download=False, pip=bundle, setuptools=bundle, wheel=bundle, via=copy, app_data_dir=C:\\Users\\pk5ls\\AppData\\Local\\pypa\\virtualenv)\n",
      "    added seed packages: pip==23.0.1, setuptools==67.6.1, wheel==0.40.0\n",
      "  activators BashActivator,BatchActivator,FishActivator,NushellActivator,PowerShellActivator,PythonActivator\n",
      "Looking in indexes: https://pypi.tuna.tsinghua.edu.cn/simple\n",
      "Requirement already satisfied: gitpython>=3.1.30 in c:\\python39\\lib\\site-packages (from -r requirements.txt (line 5)) (3.1.31)\n",
      "Requirement already satisfied: matplotlib>=3.3 in c:\\python39\\lib\\site-packages (from -r requirements.txt (line 6)) (3.6.2)\n",
      "Requirement already satisfied: numpy>=1.18.5 in c:\\python39\\lib\\site-packages (from -r requirements.txt (line 7)) (1.23.5)\n",
      "Requirement already satisfied: opencv-python>=4.1.1 in c:\\python39\\lib\\site-packages (from -r requirements.txt (line 8)) (4.7.0.68)\n",
      "Requirement already satisfied: Pillow>=7.1.2 in c:\\python39\\lib\\site-packages (from -r requirements.txt (line 9)) (8.2.0)\n",
      "Requirement already satisfied: psutil in c:\\python39\\lib\\site-packages (from -r requirements.txt (line 10)) (5.9.4)\n",
      "Requirement already satisfied: PyYAML>=5.3.1 in c:\\python39\\lib\\site-packages (from -r requirements.txt (line 11)) (6.0)\n",
      "Requirement already satisfied: requests>=2.23.0 in c:\\python39\\lib\\site-packages (from -r requirements.txt (line 12)) (2.25.1)\n",
      "Requirement already satisfied: scipy>=1.4.1 in c:\\python39\\lib\\site-packages (from -r requirements.txt (line 13)) (1.9.3)\n",
      "Requirement already satisfied: thop>=0.1.1 in c:\\python39\\lib\\site-packages (from -r requirements.txt (line 14)) (0.1.1.post2209072238)\n",
      "Requirement already satisfied: torch>=1.7.0 in c:\\python39\\lib\\site-packages (from -r requirements.txt (line 15)) (1.13.1)\n",
      "Requirement already satisfied: torchvision>=0.8.1 in c:\\python39\\lib\\site-packages (from -r requirements.txt (line 16)) (0.14.1)\n",
      "Requirement already satisfied: tqdm>=4.64.0 in c:\\python39\\lib\\site-packages (from -r requirements.txt (line 17)) (4.64.1)\n",
      "Requirement already satisfied: pandas>=1.1.4 in c:\\python39\\lib\\site-packages (from -r requirements.txt (line 26)) (1.4.2)\n",
      "Requirement already satisfied: seaborn>=0.11.0 in c:\\python39\\lib\\site-packages (from -r requirements.txt (line 27)) (0.12.2)\n",
      "Requirement already satisfied: setuptools>=65.5.1 in c:\\python39\\lib\\site-packages (from -r requirements.txt (line 41)) (67.7.2)\n",
      "Requirement already satisfied: gitdb<5,>=4.0.1 in c:\\python39\\lib\\site-packages (from gitpython>=3.1.30->-r requirements.txt (line 5)) (4.0.10)\n",
      "Requirement already satisfied: packaging>=20.0 in c:\\python39\\lib\\site-packages (from matplotlib>=3.3->-r requirements.txt (line 6)) (21.3)\n",
      "Requirement already satisfied: contourpy>=1.0.1 in c:\\python39\\lib\\site-packages (from matplotlib>=3.3->-r requirements.txt (line 6)) (1.0.6)\n",
      "Requirement already satisfied: fonttools>=4.22.0 in c:\\python39\\lib\\site-packages (from matplotlib>=3.3->-r requirements.txt (line 6)) (4.38.0)\n",
      "Requirement already satisfied: cycler>=0.10 in c:\\python39\\lib\\site-packages (from matplotlib>=3.3->-r requirements.txt (line 6)) (0.11.0)\n",
      "Requirement already satisfied: pyparsing>=2.2.1 in c:\\python39\\lib\\site-packages (from matplotlib>=3.3->-r requirements.txt (line 6)) (3.0.9)\n",
      "Requirement already satisfied: kiwisolver>=1.0.1 in c:\\python39\\lib\\site-packages (from matplotlib>=3.3->-r requirements.txt (line 6)) (1.4.4)\n",
      "Requirement already satisfied: python-dateutil>=2.7 in c:\\python39\\lib\\site-packages (from matplotlib>=3.3->-r requirements.txt (line 6)) (2.8.2)\n",
      "Requirement already satisfied: idna<3,>=2.5 in c:\\python39\\lib\\site-packages (from requests>=2.23.0->-r requirements.txt (line 12)) (2.10)\n",
      "Requirement already satisfied: certifi>=2017.4.17 in c:\\python39\\lib\\site-packages (from requests>=2.23.0->-r requirements.txt (line 12)) (2022.9.24)\n",
      "Requirement already satisfied: chardet<5,>=3.0.2 in c:\\python39\\lib\\site-packages (from requests>=2.23.0->-r requirements.txt (line 12)) (3.0.4)\n",
      "Requirement already satisfied: urllib3<1.27,>=1.21.1 in c:\\python39\\lib\\site-packages (from requests>=2.23.0->-r requirements.txt (line 12)) (1.26.15)\n",
      "Requirement already satisfied: typing-extensions in c:\\python39\\lib\\site-packages (from torch>=1.7.0->-r requirements.txt (line 15)) (4.4.0)\n",
      "Requirement already satisfied: colorama in c:\\python39\\lib\\site-packages (from tqdm>=4.64.0->-r requirements.txt (line 17)) (0.4.6)\n",
      "Requirement already satisfied: pytz>=2020.1 in c:\\python39\\lib\\site-packages (from pandas>=1.1.4->-r requirements.txt (line 26)) (2022.6)\n",
      "Requirement already satisfied: smmap<6,>=3.0.1 in c:\\python39\\lib\\site-packages (from gitdb<5,>=4.0.1->gitpython>=3.1.30->-r requirements.txt (line 5)) (5.0.0)\n",
      "Requirement already satisfied: six>=1.5 in c:\\python39\\lib\\site-packages (from python-dateutil>=2.7->matplotlib>=3.3->-r requirements.txt (line 6)) (1.16.0)\n"
     ]
    },
    {
     "name": "stderr",
     "output_type": "stream",
     "text": [
      "WARNING: You are using pip version 22.0.4; however, version 23.1.2 is available.\n",
      "You should consider upgrading via the 'C:\\Python39\\python.exe -m pip install --upgrade pip' command.\n"
     ]
    },
    {
     "name": "stdout",
     "output_type": "stream",
     "text": [
      "Looking in indexes: https://pypi.tuna.tsinghua.edu.cn/simple\n",
      "Requirement already satisfied: opencv-python in c:\\python39\\lib\\site-packages (4.7.0.68)\n",
      "Collecting opencv-python\n",
      "  Using cached https://pypi.tuna.tsinghua.edu.cn/packages/36/98/fab8d982e2e2b57bdebcad64c7e5b5a14ac91c657cac509b9cf3fbea49d2/opencv_python-4.7.0.72-cp37-abi3-win_amd64.whl (38.2 MB)\n",
      "Requirement already satisfied: numpy>=1.17.3 in c:\\python39\\lib\\site-packages (from opencv-python) (1.23.5)\n",
      "Installing collected packages: opencv-python\n",
      "  Attempting uninstall: opencv-python\n",
      "    Found existing installation: opencv-python 4.7.0.68\n",
      "    Uninstalling opencv-python-4.7.0.68:\n",
      "      Successfully uninstalled opencv-python-4.7.0.68\n",
      "Successfully installed opencv-python-4.7.0.72\n"
     ]
    },
    {
     "name": "stderr",
     "output_type": "stream",
     "text": [
      "WARNING: You are using pip version 22.0.4; however, version 23.1.2 is available.\n",
      "You should consider upgrading via the 'C:\\Python39\\python.exe -m pip install --upgrade pip' command.\n",
      "Cloning into 'yolov5'...\n"
     ]
    }
   ],
   "source": [
    "% pip install -qr requirements.txt\n",
    "! git clone https://github.com/ultralytics/yolov5.git"
   ],
   "metadata": {
    "collapsed": false
   }
  },
  {
   "cell_type": "markdown",
   "source": [
    "### 1.提取数独"
   ],
   "metadata": {
    "collapsed": false
   }
  },
  {
   "cell_type": "code",
   "execution_count": 13,
   "outputs": [
    {
     "ename": "AttributeError",
     "evalue": "partially initialized module 'cv2' has no attribute 'gapi_wip_gst_GStreamerPipeline' (most likely due to a circular import)",
     "output_type": "error",
     "traceback": [
      "\u001B[1;31m---------------------------------------------------------------------------\u001B[0m",
      "\u001B[1;31mAttributeError\u001B[0m                            Traceback (most recent call last)",
      "Cell \u001B[1;32mIn[13], line 4\u001B[0m\n\u001B[0;32m      2\u001B[0m \u001B[38;5;28;01mimport\u001B[39;00m \u001B[38;5;21;01mtorch\u001B[39;00m\n\u001B[0;32m      3\u001B[0m \u001B[38;5;28;01mimport\u001B[39;00m \u001B[38;5;21;01mdatetime\u001B[39;00m\n\u001B[1;32m----> 4\u001B[0m \u001B[38;5;28;01mfrom\u001B[39;00m \u001B[38;5;21;01mcv2\u001B[39;00m \u001B[38;5;28;01mimport\u001B[39;00m imread,imwrite\n\u001B[0;32m      5\u001B[0m model \u001B[38;5;241m=\u001B[39m torch\u001B[38;5;241m.\u001B[39mhub\u001B[38;5;241m.\u001B[39mload(\u001B[38;5;124m'\u001B[39m\u001B[38;5;124multralytics/yolov5\u001B[39m\u001B[38;5;124m'\u001B[39m, \u001B[38;5;124m'\u001B[39m\u001B[38;5;124mcustom\u001B[39m\u001B[38;5;124m'\u001B[39m, path\u001B[38;5;241m=\u001B[39m\u001B[38;5;124m'\u001B[39m\u001B[38;5;124mdetect_sudoku.pt\u001B[39m\u001B[38;5;124m'\u001B[39m)\n\u001B[0;32m      6\u001B[0m input_path \u001B[38;5;241m=\u001B[39m \u001B[38;5;124m'\u001B[39m\u001B[38;5;124msudoku_pic\u001B[39m\u001B[38;5;124m'\u001B[39m\n",
      "File \u001B[1;32mC:\\Python39\\lib\\site-packages\\cv2\\__init__.py:181\u001B[0m\n\u001B[0;32m    176\u001B[0m             \u001B[38;5;28;01mif\u001B[39;00m DEBUG: \u001B[38;5;28mprint\u001B[39m(\u001B[38;5;124m\"\u001B[39m\u001B[38;5;124mExtra Python code for\u001B[39m\u001B[38;5;124m\"\u001B[39m, submodule, \u001B[38;5;124m\"\u001B[39m\u001B[38;5;124mis loaded\u001B[39m\u001B[38;5;124m\"\u001B[39m)\n\u001B[0;32m    178\u001B[0m     \u001B[38;5;28;01mif\u001B[39;00m DEBUG: \u001B[38;5;28mprint\u001B[39m(\u001B[38;5;124m'\u001B[39m\u001B[38;5;124mOpenCV loader: DONE\u001B[39m\u001B[38;5;124m'\u001B[39m)\n\u001B[1;32m--> 181\u001B[0m \u001B[43mbootstrap\u001B[49m\u001B[43m(\u001B[49m\u001B[43m)\u001B[49m\n",
      "File \u001B[1;32mC:\\Python39\\lib\\site-packages\\cv2\\__init__.py:175\u001B[0m, in \u001B[0;36mbootstrap\u001B[1;34m()\u001B[0m\n\u001B[0;32m    172\u001B[0m \u001B[38;5;28;01mif\u001B[39;00m DEBUG: \u001B[38;5;28mprint\u001B[39m(\u001B[38;5;124m'\u001B[39m\u001B[38;5;124mOpenCV loader: binary extension... OK\u001B[39m\u001B[38;5;124m'\u001B[39m)\n\u001B[0;32m    174\u001B[0m \u001B[38;5;28;01mfor\u001B[39;00m submodule \u001B[38;5;129;01min\u001B[39;00m __collect_extra_submodules(DEBUG):\n\u001B[1;32m--> 175\u001B[0m     \u001B[38;5;28;01mif\u001B[39;00m \u001B[43m__load_extra_py_code_for_module\u001B[49m\u001B[43m(\u001B[49m\u001B[38;5;124;43m\"\u001B[39;49m\u001B[38;5;124;43mcv2\u001B[39;49m\u001B[38;5;124;43m\"\u001B[39;49m\u001B[43m,\u001B[49m\u001B[43m \u001B[49m\u001B[43msubmodule\u001B[49m\u001B[43m,\u001B[49m\u001B[43m \u001B[49m\u001B[43mDEBUG\u001B[49m\u001B[43m)\u001B[49m:\n\u001B[0;32m    176\u001B[0m         \u001B[38;5;28;01mif\u001B[39;00m DEBUG: \u001B[38;5;28mprint\u001B[39m(\u001B[38;5;124m\"\u001B[39m\u001B[38;5;124mExtra Python code for\u001B[39m\u001B[38;5;124m\"\u001B[39m, submodule, \u001B[38;5;124m\"\u001B[39m\u001B[38;5;124mis loaded\u001B[39m\u001B[38;5;124m\"\u001B[39m)\n\u001B[0;32m    178\u001B[0m \u001B[38;5;28;01mif\u001B[39;00m DEBUG: \u001B[38;5;28mprint\u001B[39m(\u001B[38;5;124m'\u001B[39m\u001B[38;5;124mOpenCV loader: DONE\u001B[39m\u001B[38;5;124m'\u001B[39m)\n",
      "File \u001B[1;32mC:\\Python39\\lib\\site-packages\\cv2\\__init__.py:28\u001B[0m, in \u001B[0;36m__load_extra_py_code_for_module\u001B[1;34m(base, name, enable_debug_print)\u001B[0m\n\u001B[0;32m     26\u001B[0m native_module \u001B[38;5;241m=\u001B[39m sys\u001B[38;5;241m.\u001B[39mmodules\u001B[38;5;241m.\u001B[39mpop(module_name, \u001B[38;5;28;01mNone\u001B[39;00m)\n\u001B[0;32m     27\u001B[0m \u001B[38;5;28;01mtry\u001B[39;00m:\n\u001B[1;32m---> 28\u001B[0m     py_module \u001B[38;5;241m=\u001B[39m \u001B[43mimportlib\u001B[49m\u001B[38;5;241;43m.\u001B[39;49m\u001B[43mimport_module\u001B[49m\u001B[43m(\u001B[49m\u001B[43mmodule_name\u001B[49m\u001B[43m)\u001B[49m\n\u001B[0;32m     29\u001B[0m \u001B[38;5;28;01mexcept\u001B[39;00m \u001B[38;5;167;01mImportError\u001B[39;00m \u001B[38;5;28;01mas\u001B[39;00m err:\n\u001B[0;32m     30\u001B[0m     \u001B[38;5;28;01mif\u001B[39;00m enable_debug_print:\n",
      "File \u001B[1;32mC:\\Python39\\lib\\importlib\\__init__.py:127\u001B[0m, in \u001B[0;36mimport_module\u001B[1;34m(name, package)\u001B[0m\n\u001B[0;32m    125\u001B[0m             \u001B[38;5;28;01mbreak\u001B[39;00m\n\u001B[0;32m    126\u001B[0m         level \u001B[38;5;241m+\u001B[39m\u001B[38;5;241m=\u001B[39m \u001B[38;5;241m1\u001B[39m\n\u001B[1;32m--> 127\u001B[0m \u001B[38;5;28;01mreturn\u001B[39;00m \u001B[43m_bootstrap\u001B[49m\u001B[38;5;241;43m.\u001B[39;49m\u001B[43m_gcd_import\u001B[49m\u001B[43m(\u001B[49m\u001B[43mname\u001B[49m\u001B[43m[\u001B[49m\u001B[43mlevel\u001B[49m\u001B[43m:\u001B[49m\u001B[43m]\u001B[49m\u001B[43m,\u001B[49m\u001B[43m \u001B[49m\u001B[43mpackage\u001B[49m\u001B[43m,\u001B[49m\u001B[43m \u001B[49m\u001B[43mlevel\u001B[49m\u001B[43m)\u001B[49m\n",
      "File \u001B[1;32mC:\\Python39\\lib\\site-packages\\cv2\\gapi\\__init__.py:301\u001B[0m\n\u001B[0;32m    296\u001B[0m         \u001B[38;5;28;01mreturn\u001B[39;00m \u001B[38;5;28mcls\u001B[39m\n\u001B[0;32m    298\u001B[0m     \u001B[38;5;28;01mreturn\u001B[39;00m kernel_with_params\n\u001B[1;32m--> 301\u001B[0m cv\u001B[38;5;241m.\u001B[39mgapi\u001B[38;5;241m.\u001B[39mwip\u001B[38;5;241m.\u001B[39mGStreamerPipeline \u001B[38;5;241m=\u001B[39m \u001B[43mcv\u001B[49m\u001B[38;5;241;43m.\u001B[39;49m\u001B[43mgapi_wip_gst_GStreamerPipeline\u001B[49m\n",
      "\u001B[1;31mAttributeError\u001B[0m: partially initialized module 'cv2' has no attribute 'gapi_wip_gst_GStreamerPipeline' (most likely due to a circular import)"
     ]
    }
   ],
   "source": [
    "import os\n",
    "import torch\n",
    "import datetime\n",
    "import cv2\n",
    "model = torch.hub.load('ultralytics/yolov5', 'custom', path='detect_sudoku.pt')\n",
    "input_path = 'sudoku_pic'\n",
    "output_path = 'sudoku_pic/extract'\n",
    "timex = lambda :datetime.datetime.now()\n",
    "for file_name in os.listdir(input_path):\n",
    "    if file_name.endswith('.jpg') or file_name.endswith('.png'):\n",
    "        print(f\"正在处理{file_name}\", end='')\n",
    "        img = cv2.imread(os.path.join(input_path, file_name))\n",
    "        # 使用YOLOv5检测\n",
    "        results = model(img)\n",
    "        # 得到置信度最高的数独检测结果\n",
    "        sudoku_detection = None\n",
    "        for result in results.pred[0]:\n",
    "            if result[-1] == 0 and result[-2] > 0.8:\n",
    "                sudoku_detection = result\n",
    "                break\n",
    "        # 提取数独\n",
    "        if sudoku_detection is not None:\n",
    "            xmin, ymin, xmax, ymax, confidence = sudoku_detection[:5]\n",
    "            sudoku = img[int(ymin):int(ymax), int(xmin):int(xmax)]\n",
    "            cv2.imwrite(os.path.join(output_path, f\"extract_{file_name}\"), sudoku)\n",
    "            print(f\"...提取成功！\")\n",
    "        else:\n",
    "            print(f\"...{file_name}未检测到数独！\")\n",
    "print(f\"Done on {timex()}\")"
   ],
   "metadata": {
    "collapsed": false
   }
  },
  {
   "cell_type": "markdown",
   "source": [
    "### 2.提取数独中的数字"
   ],
   "metadata": {
    "collapsed": false
   }
  },
  {
   "cell_type": "code",
   "execution_count": null,
   "outputs": [],
   "source": [
    "# Iterate over images in input folder\n",
    "fp = list(os.listdir(output_path))\n",
    "for file_name in fp:\n",
    "    if file_name.split('_')[0] != 'extract':\n",
    "        continue\n",
    "    # Load image\n",
    "    img = cv2.imread(os.path.join(output_path, file_name))\n",
    "    # Get dimensions of image\n",
    "    height, width, _ = img.shape\n",
    "    # Calculate size of each small image\n",
    "    size = int(height / 9)\n",
    "    # Iterate over rows and columns of small images\n",
    "    for row in range(9):\n",
    "        for col in range(9):\n",
    "            # Calculate coordinates of small image\n",
    "            x1 = col * size\n",
    "            y1 = row * size\n",
    "            x2 = x1 + size\n",
    "            y2 = y1 + size\n",
    "            # Crop small image from main image\n",
    "            small_img = img[y1:y2, x1:x2]\n",
    "            # Save small image to output folder\n",
    "            small_img_file_name = '{}_{}.png'.format(os.path.splitext(file_name)[0], row * 9 + col)\n",
    "            cv2.imwrite(os.path.join(output_path, small_img_file_name), small_img)\n",
    "print(f\"Done on {timex()}\")"
   ],
   "metadata": {
    "collapsed": false
   }
  },
  {
   "cell_type": "markdown",
   "source": [
    "### 3.单个数字图片预处理\n",
    "在识别单个数字之前，需要对图片进行预处理。\n",
    "受限于训练模型，进行二值化+去黑线的预处理可以大幅度提高识别准确率"
   ],
   "metadata": {
    "collapsed": false
   }
  },
  {
   "cell_type": "code",
   "execution_count": null,
   "outputs": [],
   "source": [
    "from PIL import Image, ImageOps\n",
    "import os\n",
    "\n",
    "# 读取图片并转换为黑白图\n",
    "folder_path = 'sudoku_pic/extract'\n",
    "for filename in os.listdir(folder_path):\n",
    "    if len(filename.split('_')) != 3:\n",
    "        continue\n",
    "    img = Image.open(f\"{folder_path}/{filename}\").convert('L')\n",
    "    # 获取图片的宽度和高度\n",
    "    width, height = img.size\n",
    "    cl = []\n",
    "    # 遍历每一行，如果整行像素点>=80%部分不是白色，则将该行像素点全部转换为白色\n",
    "    for y in range(height):\n",
    "        pixels = [img.getpixel((x, y)) for x in range(width)]\n",
    "        white_pixels = sum(1 for pixel in pixels if pixel == 255)\n",
    "        if white_pixels < width*0.2:\n",
    "            for x in range(width):\n",
    "                cl.append((x, y))\n",
    "    # 遍历每一列，如果整列像素点>=80%部分不是白色，则将该列像素点全部转换为白色\n",
    "    for x in range(width):\n",
    "        pixels = [img.getpixel((x, y)) for y in range(height)]\n",
    "        white_pixels = sum(1 for pixel in pixels if pixel == 255)\n",
    "        if white_pixels < height*0.2:\n",
    "            for y in range(height):\n",
    "                cl.append((x, y))\n",
    "    # 将所有的白色像素点转换为黑色\n",
    "    for x, y in cl:\n",
    "        img.putpixel((x, y), 255)\n",
    "    # 反转图片颜色\n",
    "    img = ImageOps.invert(img)\n",
    "    img.save(f\"{folder_path}/ok/ok_{filename}\")\n",
    "print(f\"Done on {timex()}\")"
   ],
   "metadata": {
    "collapsed": false
   }
  },
  {
   "cell_type": "markdown",
   "source": [
    "### 4.识别数字并转化为数独\n"
   ],
   "metadata": {
    "collapsed": false
   }
  },
  {
   "cell_type": "code",
   "execution_count": null,
   "outputs": [],
   "source": [
    "from torchvision.transforms import ToTensor, Resize\n",
    "from pathlib import Path\n",
    "import sys\n",
    "from models.experimental import attempt_load\n",
    "from utils.general import non_max_suppression\n",
    "from utils.torch_utils import select_device\n",
    "import numpy as np\n",
    "from PIL import Image\n",
    "\n",
    "sys.path.insert(0, str(Path('yolov5')))\n",
    "\n",
    "def load_model(model_path):\n",
    "    device = select_device()\n",
    "    model = attempt_load(model_path, device)\n",
    "    model.eval()\n",
    "    return model\n",
    "\n",
    "def predict(model, image_path):\n",
    "    device = select_device()\n",
    "    img = Image.open(image_path).convert(\"RGB\")\n",
    "    img = Resize((128, 128))(img)\n",
    "    img_tensor = ToTensor()(img).unsqueeze(0).to(device)\n",
    "    pred = model(img_tensor)[0]\n",
    "    # Apply non-max suppression\n",
    "    results = non_max_suppression(pred, conf_thres=0.25, iou_thres=0.45, classes=None, agnostic=False)\n",
    "    return results, img.size\n",
    "\n",
    "def process_images(model_path, image_folder):\n",
    "    model = load_model(model_path)\n",
    "    sudoku = np.zeros((9, 9), dtype=np.int32)\n",
    "    for img_name in sorted(os.listdir(image_folder)):\n",
    "        if img_name.startswith(\"ok_extract_\"):\n",
    "            row = int(img_name.split(\"_\")[3].split('.')[0]) // 9\n",
    "            col = int(img_name.split(\"_\")[3].split('.')[0]) % 9\n",
    "            img_path = os.path.join(image_folder, img_name)\n",
    "            results, img_size = predict(model, img_path)\n",
    "            if len(results) > 0 and len(results[0]) > 0:\n",
    "                most_likely_class = int(results[0][0][5].item())\n",
    "                sudoku[row, col] = most_likely_class\n",
    "        else:\n",
    "            continue\n",
    "    print(sudoku)\n",
    "process_images(\"detect_number.pt\", \"sudoku_pic/extract/ok\")\n",
    "print(f\"Done on {timex()}\")"
   ],
   "metadata": {
    "collapsed": false
   }
  }
 ],
 "metadata": {
  "kernelspec": {
   "display_name": "Python 3",
   "language": "python",
   "name": "python3"
  },
  "language_info": {
   "codemirror_mode": {
    "name": "ipython",
    "version": 2
   },
   "file_extension": ".py",
   "mimetype": "text/x-python",
   "name": "python",
   "nbconvert_exporter": "python",
   "pygments_lexer": "ipython2",
   "version": "2.7.6"
  }
 },
 "nbformat": 4,
 "nbformat_minor": 0
}
